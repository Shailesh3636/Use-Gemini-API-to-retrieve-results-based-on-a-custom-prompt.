{
 "cells": [
  {
   "cell_type": "code",
   "execution_count": 1,
   "id": "b368add0",
   "metadata": {},
   "outputs": [],
   "source": [
    "!pip install -q -U google-generativeai"
   ]
  },
  {
   "cell_type": "code",
   "execution_count": 9,
   "id": "dbcb287a",
   "metadata": {},
   "outputs": [],
   "source": [
    "import pathlib\n",
    "import textwrap\n",
    "import google.generativeai as genai\n",
    "from IPython.display import display\n",
    "from IPython.display import Markdown\n"
   ]
  },
  {
   "cell_type": "code",
   "execution_count": 10,
   "id": "202f5c3e",
   "metadata": {},
   "outputs": [],
   "source": [
    "def to_markdown(text):\n",
    "  text = text.replace('•', '  *')\n",
    "  return Markdown(textwrap.indent(text, '> ', predicate=lambda _: True))"
   ]
  },
  {
   "cell_type": "code",
   "execution_count": 11,
   "id": "8a25dc49",
   "metadata": {},
   "outputs": [],
   "source": [
    "genai.configure(api_key=\"GOOGLE-API-HERE\")"
   ]
  },
  {
   "cell_type": "code",
   "execution_count": 12,
   "id": "9b9a258d",
   "metadata": {},
   "outputs": [],
   "source": [
    "model = genai.GenerativeModel('gemini-pro')"
   ]
  },
  {
   "cell_type": "code",
   "execution_count": 13,
   "id": "3d3c3957",
   "metadata": {},
   "outputs": [
    {
     "name": "stdout",
     "output_type": "stream",
     "text": [
      "Explain me what is deep learning?\n"
     ]
    },
    {
     "data": {
      "text/markdown": [
       "> **Deep Learning**\n",
       "> \n",
       "> Deep learning is a subset of machine learning that trains neural networks with multiple layers to perform complex tasks. These layers represent different levels of abstraction, allowing the network to learn intricate patterns and relationships in data.\n",
       "> \n",
       "> **Key Features of Deep Learning:**\n",
       "> \n",
       "> * **Multiple layers:** Deep neural networks consist of multiple hidden layers between the input and output layers.\n",
       "> * **Automatic feature extraction:** Deep learning algorithms automatically extract and learn the most important features from data, eliminating the need for manual feature engineering.\n",
       "> * **Representation learning:** Each layer in the network learns a different representation of the data, leading to a hierarchical understanding of the input.\n",
       "> \n",
       "> **How Deep Learning Works:**\n",
       "> \n",
       "> 1. **Input:** The input data is fed into the network's first layer, which consists of artificial neurons called units.\n",
       "> 2. **Forward Propagation:** Each unit in a lower layer takes weighted input from units in the previous layer and applies an activation function to produce an output.\n",
       "> 3. **Hidden Layers:** Data passes through multiple hidden layers, transforming and extracting higher-level features. Each layer learns a different aspect of the data.\n",
       "> 4. **Output Layer:** The final layer produces the network's output, which can be a prediction, classification, or regression result.\n",
       "> 5. **Backpropagation:** Errors are calculated in the output layer and propagated backward through the network. Weights and biases are updated to minimize the error.\n",
       "> \n",
       "> **Applications of Deep Learning:**\n",
       "> \n",
       "> Deep learning is used in a wide range of applications, including:\n",
       "> \n",
       "> * **Image recognition**\n",
       "> * **Natural language processing**\n",
       "> * **Speech recognition**\n",
       "> * **Medical diagnosis**\n",
       "> * **Financial forecasting**\n",
       "> * **Predictive analytics**\n",
       "> \n",
       "> **Advantages of Deep Learning:**\n",
       "> \n",
       "> * Excellent at processing large, complex, and unstructured data.\n",
       "> * Automates the feature extraction process, making it more efficient.\n",
       "> * Can handle high-dimensional data and find patterns that humans may miss.\n",
       "> \n",
       "> **Disadvantages of Deep Learning:**\n",
       "> \n",
       "> * Requires large amounts of data for training.\n",
       "> * Training can be time-consuming and computationally expensive.\n",
       "> * Can be difficult to interpret the results and determine why the network makes certain decisions."
      ],
      "text/plain": [
       "<IPython.core.display.Markdown object>"
      ]
     },
     "execution_count": 13,
     "metadata": {},
     "output_type": "execute_result"
    }
   ],
   "source": [
    "a = input()\n",
    "result =model.generate_content(a)\n",
    "to_markdown(result.text)"
   ]
  },
  {
   "cell_type": "code",
   "execution_count": null,
   "id": "98f9cd47",
   "metadata": {},
   "outputs": [],
   "source": []
  }
 ],
 "metadata": {
  "kernelspec": {
   "display_name": "Python 3 (ipykernel)",
   "language": "python",
   "name": "python3"
  },
  "language_info": {
   "codemirror_mode": {
    "name": "ipython",
    "version": 3
   },
   "file_extension": ".py",
   "mimetype": "text/x-python",
   "name": "python",
   "nbconvert_exporter": "python",
   "pygments_lexer": "ipython3",
   "version": "3.11.5"
  }
 },
 "nbformat": 4,
 "nbformat_minor": 5
}
